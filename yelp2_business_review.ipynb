{
 "cells": [
  {
   "cell_type": "code",
   "execution_count": 1,
   "metadata": {},
   "outputs": [],
   "source": [
    "# Look up detailed information on a specific business\n",
    "# 1. Import the modules\n",
    "import requests\n",
    "import json\n",
    "from yelp_authorization import APIkey # change to yelp_authentification when sharing with students"
   ]
  },
  {
   "cell_type": "code",
   "execution_count": 2,
   "metadata": {},
   "outputs": [],
   "source": [
    "# 2. Define a business ID\n",
    "# this example is for Il Corvo and we got this ID from yelp1_business_search.\n",
    "business_id = '67QmiVYdCbG4PRmF61A5bw'"
   ]
  },
  {
   "cell_type": "code",
   "execution_count": 4,
   "metadata": {},
   "outputs": [],
   "source": [
    "# 3. Define my API Key, My Endpoint, and My Header\n",
    "API_KEY = APIkey\n",
    "ENDPOINT = 'https://api.yelp.com/v3/businesses/{}/reviews'.format(business_id)\n",
    "HEADERS = {'Authorization': 'bearer %s' % API_KEY}"
   ]
  },
  {
   "cell_type": "code",
   "execution_count": 5,
   "metadata": {},
   "outputs": [],
   "source": [
    "# 4. Make a request to the Yelp API\n",
    "response = requests.get(url = ENDPOINT,\n",
    "                        headers = HEADERS)"
   ]
  },
  {
   "cell_type": "code",
   "execution_count": 6,
   "metadata": {},
   "outputs": [],
   "source": [
    "# 5.Make JSON string data to Python dictionary\n",
    "ilcorvo = response.json()"
   ]
  },
  {
   "cell_type": "code",
   "execution_count": 7,
   "metadata": {},
   "outputs": [
    {
     "name": "stdout",
     "output_type": "stream",
     "text": [
      "{\n",
      "     \"reviews\": [\n",
      "          {\n",
      "               \"id\": \"4T3kERXIyyWoHkJhr-PosA\",\n",
      "               \"url\": \"https://www.yelp.com/biz/il-corvo-pasta-seattle?adjust_creative=9Hi42W6_CFAMbszVagmNmg&hrid=4T3kERXIyyWoHkJhr-PosA&utm_campaign=yelp_api_v3&utm_medium=api_v3_business_reviews&utm_source=9Hi42W6_CFAMbszVagmNmg\",\n",
      "               \"text\": \"Our first day in Seattle as we were wandering around, we passed a long line of people waiting outside this tiny Italian restaurant. The weather was not...\",\n",
      "               \"rating\": 5,\n",
      "               \"time_created\": \"2020-01-30 09:47:46\",\n",
      "               \"user\": {\n",
      "                    \"id\": \"1VL37A_wk_t67j-WdDecpA\",\n",
      "                    \"profile_url\": \"https://www.yelp.com/user_details?userid=1VL37A_wk_t67j-WdDecpA\",\n",
      "                    \"image_url\": \"https://s3-media4.fl.yelpcdn.com/photo/83waHJJDRBTJVXvMlPdaUA/o.jpg\",\n",
      "                    \"name\": \"Kathy M.\"\n",
      "               }\n",
      "          },\n",
      "          {\n",
      "               \"id\": \"WneysJyKppWos_D23Mpjaw\",\n",
      "               \"url\": \"https://www.yelp.com/biz/il-corvo-pasta-seattle?adjust_creative=9Hi42W6_CFAMbszVagmNmg&hrid=WneysJyKppWos_D23Mpjaw&utm_campaign=yelp_api_v3&utm_medium=api_v3_business_reviews&utm_source=9Hi42W6_CFAMbszVagmNmg\",\n",
      "               \"text\": \"Most legit Italian pasta in Seattle!  I have been to Rome and haven't found a good restaurant that served legit Italian food until we went to II Corvo...\",\n",
      "               \"rating\": 5,\n",
      "               \"time_created\": \"2020-01-24 15:13:01\",\n",
      "               \"user\": {\n",
      "                    \"id\": \"u8I42IKP3gaQRrpSb3e96Q\",\n",
      "                    \"profile_url\": \"https://www.yelp.com/user_details?userid=u8I42IKP3gaQRrpSb3e96Q\",\n",
      "                    \"image_url\": \"https://s3-media2.fl.yelpcdn.com/photo/Sk4hJvT3G1syAV4wL03HjQ/o.jpg\",\n",
      "                    \"name\": \"Eugene V.\"\n",
      "               }\n",
      "          },\n",
      "          {\n",
      "               \"id\": \"E1iKrhKpvgK4CZqHcvmm1w\",\n",
      "               \"url\": \"https://www.yelp.com/biz/il-corvo-pasta-seattle?adjust_creative=9Hi42W6_CFAMbszVagmNmg&hrid=E1iKrhKpvgK4CZqHcvmm1w&utm_campaign=yelp_api_v3&utm_medium=api_v3_business_reviews&utm_source=9Hi42W6_CFAMbszVagmNmg\",\n",
      "               \"text\": \"I finally got around to dining here and I'm so glad I did! Since they're only open on the weekdays during lunch time, it makes dining here pretty...\",\n",
      "               \"rating\": 4,\n",
      "               \"time_created\": \"2020-01-21 08:31:50\",\n",
      "               \"user\": {\n",
      "                    \"id\": \"juJS5_I5IGzMveRKNBwEVA\",\n",
      "                    \"profile_url\": \"https://www.yelp.com/user_details?userid=juJS5_I5IGzMveRKNBwEVA\",\n",
      "                    \"image_url\": \"https://s3-media3.fl.yelpcdn.com/photo/BMINFFt3Vlqxq_tiKJ7L-w/o.jpg\",\n",
      "                    \"name\": \"Jason L.\"\n",
      "               }\n",
      "          }\n",
      "     ],\n",
      "     \"total\": 1280,\n",
      "     \"possible_languages\": [\n",
      "          \"en\",\n",
      "          \"it\",\n",
      "          \"es\"\n",
      "     ]\n",
      "}\n"
     ]
    }
   ],
   "source": [
    "# 6. print the response\n",
    "print(json.dumps(ilcorvo, indent = 5))"
   ]
  },
  {
   "cell_type": "code",
   "execution_count": 11,
   "metadata": {},
   "outputs": [
    {
     "name": "stdout",
     "output_type": "stream",
     "text": [
      "Kathy M. rated 5 and said \"Our first day in Seattle as we were wandering around, we passed a long line of people waiting outside this tiny Italian restaurant. The weather was not...\".\n",
      "Eugene V. rated 5 and said \"Most legit Italian pasta in Seattle!  I have been to Rome and haven't found a good restaurant that served legit Italian food until we went to II Corvo...\".\n",
      "Jason L. rated 4 and said \"I finally got around to dining here and I'm so glad I did! Since they're only open on the weekdays during lunch time, it makes dining here pretty...\".\n"
     ]
    }
   ],
   "source": [
    "# 7. Print \"REVIEWERNAME rated RATING and said \"REVIEWTEXT\".\" for each reviewer\n",
    "for reviewer in ilcorvo[\"reviews\"]:\n",
    "    print(\"{} rated {} and said \\\"{}\\\".\".format(reviewer['user']['name'], reviewer['rating'], reviewer['text']))"
   ]
  }
 ],
 "metadata": {
  "kernelspec": {
   "display_name": "Python 3",
   "language": "python",
   "name": "python3"
  },
  "language_info": {
   "codemirror_mode": {
    "name": "ipython",
    "version": 3
   },
   "file_extension": ".py",
   "mimetype": "text/x-python",
   "name": "python",
   "nbconvert_exporter": "python",
   "pygments_lexer": "ipython3",
   "version": "3.7.6"
  }
 },
 "nbformat": 4,
 "nbformat_minor": 4
}

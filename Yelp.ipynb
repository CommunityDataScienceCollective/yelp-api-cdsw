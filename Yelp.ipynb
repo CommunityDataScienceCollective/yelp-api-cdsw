{
 "cells": [
  {
   "cell_type": "markdown",
   "metadata": {},
   "source": [
    "The first two cells won't have any output, which is fine. They're going to load the Yelp API, and then make a query for the top five ice cream restaurants in Austin, TX.\n",
    "\n",
    "### Before running this code ###\n",
    "Update `TOKEN_SECRET` in `yelp_authentication.py` with the API Token you saved from the Yelp API."
   ]
  },
  {
   "cell_type": "code",
   "execution_count": null,
   "metadata": {},
   "outputs": [],
   "source": [
    "from yelpapi import YelpAPI\n",
    "from yelp_authentication import TOKEN_SECRET\n",
    "\n",
    "yelp_api = YelpAPI(TOKEN_SECRET)"
   ]
  },
  {
   "cell_type": "code",
   "execution_count": null,
   "metadata": {},
   "outputs": [],
   "source": [
    "# Example search by location text and term. Take a look at\n",
    "# https://www.yelp.com/developers/documentation/v3/business_search for\n",
    "# the various options available.\n",
    "\n",
    "response = yelp_api.search_query(term='ice cream', location='austin, tx', sort=2, limit=5)"
   ]
  },
  {
   "cell_type": "code",
   "execution_count": null,
   "metadata": {},
   "outputs": [],
   "source": [
    "# Let's look at the direct output of that response before searching through it:\n",
    "response"
   ]
  },
  {
   "cell_type": "code",
   "execution_count": null,
   "metadata": {},
   "outputs": [],
   "source": [
    "print('***** 5 best rated ice cream places in Austin, TX *****')\n",
    "\n",
    "print(f\"region center (lat,long): {response['region']['center']['latitude']}, {response['region']['center']['longitude']}\")\n",
    "\n",
    "for business in response['businesses']:\n",
    "    print(f\"{business['name']}\\n\\tYelp ID: {business['id']}\\n\\trating: {business['rating']} ({ business['review_count']} reviews)\\n\\taddress: {business['location']['display_address']}\")"
   ]
  },
  {
   "cell_type": "code",
   "execution_count": null,
   "metadata": {},
   "outputs": [],
   "source": [
    "# Example business query. Look at\n",
    "# http://www.yelp.com/developers/documentation/v2/business for more\n",
    "# information.\n",
    "\n",
    "amys_ice_creams = yelp_api.business_query(id='amys-ice-creams-austin-3')"
   ]
  },
  {
   "cell_type": "code",
   "execution_count": null,
   "metadata": {},
   "outputs": [],
   "source": [
    "# Again, let's look at the direct output of the search,\n",
    "# so that we can see what we're looking for inside the response:\n",
    "amys_ice_creams"
   ]
  },
  {
   "cell_type": "code",
   "execution_count": null,
   "metadata": {},
   "outputs": [],
   "source": [
    "# Now that we have the data for Amy's Ice Creams in Austin, we can look up\n",
    "# reviews, with another API call:\n",
    "amys_ice_creams_reviews = yelp_api.reviews_query(amys_ice_creams['id'])\n"
   ]
  },
  {
   "cell_type": "code",
   "execution_count": null,
   "metadata": {},
   "outputs": [],
   "source": [
    "print(\"***** selected reviews for Amy's on 6th St. *****\")\n",
    "amys_ice_creams_reviews"
   ]
  },
  {
   "cell_type": "code",
   "execution_count": null,
   "metadata": {},
   "outputs": [],
   "source": []
  }
 ],
 "metadata": {
  "kernelspec": {
   "display_name": "Python 3",
   "language": "python",
   "name": "python3"
  },
  "language_info": {
   "codemirror_mode": {
    "name": "ipython",
    "version": 3
   },
   "file_extension": ".py",
   "mimetype": "text/x-python",
   "name": "python",
   "nbconvert_exporter": "python",
   "pygments_lexer": "ipython3",
   "version": "3.7.5"
  }
 },
 "nbformat": 4,
 "nbformat_minor": 2
}

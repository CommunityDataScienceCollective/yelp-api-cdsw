{
 "cells": [
  {
   "cell_type": "code",
   "execution_count": null,
   "metadata": {},
   "outputs": [],
   "source": [
    "# 1. Import the modules\n",
    "import requests\n",
    "import json\n",
    "import yelp_authentication"
   ]
  },
  {
   "cell_type": "code",
   "execution_count": null,
   "metadata": {},
   "outputs": [],
   "source": [
    "# 2. Define my API Key, my endpoint, and my header\n",
    "ENDPOINT = 'https://api.yelp.com/v3/businesses/search'\n",
    "HEADERS = {'Authorization': f\"bearer {yelp_authentication.APIKey}\"}"
   ]
  },
  {
   "cell_type": "code",
   "execution_count": null,
   "metadata": {},
   "outputs": [],
   "source": [
    "# 3. Define my parameters of the search\n",
    "#   In this example, we're asking for:\n",
    "#   up to 50 places ('limit') that match pasta ('term')\n",
    "#   within 10000m ('radius') of Seattle ('location').\n",
    "PARAMETERS = {'term': 'pasta',\n",
    "              'limit': 50,\n",
    "              'radius': 10000,\n",
    "              'location': 'Seattle'}\n",
    "\n",
    "# 4. Make a request to the Yelp API\n",
    "response = requests.get(url = ENDPOINT,\n",
    "                        params = PARAMETERS,\n",
    "                        headers = HEADERS)"
   ]
  },
  {
   "cell_type": "code",
   "execution_count": null,
   "metadata": {},
   "outputs": [],
   "source": [
    "# 5. Print response\n",
    "#    Try print(response) and see what you get instead\n",
    "#    .json() converts the JSON data Yelp gives us to something more usable in Python (dictionary)\n",
    "pasta = response.json()\n",
    "pasta"
   ]
  },
  {
   "cell_type": "code",
   "execution_count": null,
   "metadata": {},
   "outputs": [],
   "source": [
    "# 6. For each business, print \"STORENAME's rating is RATING\" using \"id\" and \"rating\" of each business from above\n",
    "for business in pasta[\"businesses\"]:\n",
    "    print(f\"{business['name']}\\'s rating is {business['rating']}\")"
   ]
  },
  {
   "cell_type": "code",
   "execution_count": null,
   "metadata": {},
   "outputs": [],
   "source": [
    "# print out the http headers which is a dictionary!\n",
    "# pay attention to the \"ratelimit-remaining\" key. it's value is the number of requests \n",
    "# to the Yelp API you have left today!\n",
    "response.headers['ratelimit-remaining']"
   ]
  },
  {
   "cell_type": "code",
   "execution_count": null,
   "metadata": {},
   "outputs": [],
   "source": []
  }
 ],
 "metadata": {
  "kernelspec": {
   "display_name": "Python 3",
   "language": "python",
   "name": "python3"
  },
  "language_info": {
   "codemirror_mode": {
    "name": "ipython",
    "version": 3
   },
   "file_extension": ".py",
   "mimetype": "text/x-python",
   "name": "python",
   "nbconvert_exporter": "python",
   "pygments_lexer": "ipython3",
   "version": "3.7.3"
  }
 },
 "nbformat": 4,
 "nbformat_minor": 4
}

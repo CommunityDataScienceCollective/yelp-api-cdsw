{
 "cells": [
  {
   "cell_type": "code",
   "execution_count": null,
   "metadata": {},
   "outputs": [],
   "source": [
    "# 1. Import the modules\n",
    "import requests\n",
    "import json\n",
    "import yelp_authentication"
   ]
  },
  {
   "cell_type": "code",
   "execution_count": null,
   "metadata": {},
   "outputs": [],
   "source": [
    "# 2. Define my API Key and and my header but not the end point\n",
    "HEADERS = {'Authorization': f\"bearer {yelp_authentication.APIKey}\"}"
   ]
  },
  {
   "cell_type": "code",
   "execution_count": null,
   "metadata": {},
   "outputs": [],
   "source": [
    "# 3. Define a business ID\n",
    "# this example is for Il Corvo and we got this ID from yelp1_business_search.\n",
    "business_id = '67QmiVYdCbG4PRmF61A5bw'"
   ]
  },
  {
   "cell_type": "code",
   "execution_count": null,
   "metadata": {},
   "outputs": [],
   "source": [
    "# 4. Define my Endpoint and My Header\n",
    "ENDPOINT = f'https://api.yelp.com/v3/businesses/{business_id}/reviews'"
   ]
  },
  {
   "cell_type": "code",
   "execution_count": null,
   "metadata": {},
   "outputs": [],
   "source": [
    "# 5. Make a request to the Yelp API\n",
    "response = requests.get(url = ENDPOINT, headers = HEADERS)"
   ]
  },
  {
   "cell_type": "code",
   "execution_count": null,
   "metadata": {},
   "outputs": [],
   "source": [
    "# 6. Make JSON string data to Python dictionary\n",
    "ilcorvo = response.json()\n",
    "ilcorvo"
   ]
  },
  {
   "cell_type": "code",
   "execution_count": null,
   "metadata": {},
   "outputs": [],
   "source": [
    "# 7. Print \"REVIEWERNAME rated RATING and said \"REVIEWTEXT\".\" for each reviewer\n",
    "for reviewer in ilcorvo[\"reviews\"]:\n",
    "    print(f\"{reviewer['user']['name']} rated {reviewer['rating']} and said \\\"{reviewer['text']}\\\".\")"
   ]
  }
 ],
 "metadata": {
  "kernelspec": {
   "display_name": "Python 3",
   "language": "python",
   "name": "python3"
  },
  "language_info": {
   "codemirror_mode": {
    "name": "ipython",
    "version": 3
   },
   "file_extension": ".py",
   "mimetype": "text/x-python",
   "name": "python",
   "nbconvert_exporter": "python",
   "pygments_lexer": "ipython3",
   "version": "3.7.3"
  }
 },
 "nbformat": 4,
 "nbformat_minor": 4
}
